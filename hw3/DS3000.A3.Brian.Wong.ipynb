{
 "cells": [
  {
   "cell_type": "markdown",
   "metadata": {},
   "source": [
    "# DS 3000 - Assignment 3\n",
    "\n",
    "**Student Name**: Brian Wong\n",
    "\n",
    "**Date**: 1/22/2025\n",
    "\n",
    "\n",
    "### Submission Instructions\n",
    "Submit this `ipynb` file to canvas.\n",
    "\n",
    "The `ipynb` format stores outputs from the last time you ran the notebook.  (When you open a notebook it has the figures and outputs of the last time you ran it too).  To ensure that your submitted `ipynb` file represents your latest code, make sure to give a fresh run `Kernel > Restart & Run All` just before uploading the `ipynb` file to Canvas.\n",
    "\n",
    "### Academic Integrity\n",
    "\n",
    "**Writing your homework is an individual effort.**  You may discuss general python problems with other students but under no circumstances should you observe another student's code which was written for this assignment, from this year or past years.  Pop into office hours or DM us in MS Teams if you have a specific question about your work or if you would like another pair of eyes or talk through your code.\n",
    "\n",
    "Don't forget to cite websites which helped you solve a problem in a unique way.  You can do this in markdown near the code or with a simple one-line comment. You do not need to cite the official python documentation.\n",
    "\n",
    "**Documentation / style counts for credit**  Please refer to the Pep-8 style, to improve the readability and consistency of your Python code. For more information, read the following article [How to Write Beautiful Python Code With PEP 8](https://realpython.com/python-pep8/) or ask your TA's for tips.\n",
    "\n",
    "**NOTE:<span style='color:red'> Write python expressions to answer ALL questions below and ensure that you use the `print()` function to display the output.</span>** Each question should be answered in a new code cell. For example, your solution for question 1.1 should be in a different code cell from your solution for question 1.2."
   ]
  },
  {
   "cell_type": "code",
   "execution_count": null,
   "metadata": {},
   "outputs": [],
   "source": []
  },
  {
   "cell_type": "markdown",
   "metadata": {},
   "source": [
    "## Data Science Problem (50 pts)\n",
    "### Instructions\n",
    "\n",
    "You are hired as a Data Scientist for the NYC Taxi and Limousine Commission (TLC) and this company routinely collects trip data from all licensed cabs in NY. Your team would like to use this data in the future to understand how New Yorkers use these taxis. Your first assignment is to **analyze the data of the Green Taxis, and determine if its a viable source.**\n",
    "\n",
    "Your supervisor has requested that you perform your analysis using data from December 2023 and would like for you to present your findings during the next team meeting. Use a Jupyter notebook to explain your data wrangling and analytical steps to your colleagues. \n",
    "\n",
    "**Data & Documentation**\n",
    "\n",
    "- **Data Source:** https://d37ci6vzurychx.cloudfront.net/trip-data/green_tripdata_2023-12.parquet\n",
    "- **Data Dictionary:** [Green Trips Data Dictionary](https://www1.nyc.gov/assets/tlc/downloads/pdf/data_dictionary_trip_records_green.pdf).\n",
    "\n",
    "The TLC trip record data and a description of the initiative can be found at the following link: https://www1.nyc.gov/site/tlc/about/tlc-trip-record-data.page\n",
    "\n",
    "**`Note:`** Ensure that you explain the results from each question.\n",
    "\n",
    "\n",
    "**In this assignment you will use the Pandas library. Pandas allows us to load data that's stored in a various formats, e.g. excel, csv, txt, parquet, etc. In this assignment, you will learn to read data in parquet format which is one of the preferred formats when working with `Big Data`. [Click here to learn more about parquet files](https://towardsdatascience.com/csv-files-for-storage-no-thanks-theres-a-better-option-72c78a414d1d)**\n",
    "\n",
    "I also provided starter code below to help you to read the data in parquet format. First, you'll need to install a new library called *fastparquet*."
   ]
  },
  {
   "cell_type": "code",
   "execution_count": 3,
   "metadata": {},
   "outputs": [
    {
     "name": "stdout",
     "output_type": "stream",
     "text": [
      "Requirement already satisfied: fastparquet in c:\\users\\alber\\anaconda3\\lib\\site-packages (2024.11.0)\n",
      "Requirement already satisfied: pandas>=1.5.0 in c:\\users\\alber\\anaconda3\\lib\\site-packages (from fastparquet) (2.2.2)\n",
      "Requirement already satisfied: numpy in c:\\users\\alber\\anaconda3\\lib\\site-packages (from fastparquet) (1.26.4)\n",
      "Requirement already satisfied: cramjam>=2.3 in c:\\users\\alber\\anaconda3\\lib\\site-packages (from fastparquet) (2.9.1)\n",
      "Requirement already satisfied: fsspec in c:\\users\\alber\\anaconda3\\lib\\site-packages (from fastparquet) (2024.6.1)\n",
      "Requirement already satisfied: packaging in c:\\users\\alber\\anaconda3\\lib\\site-packages (from fastparquet) (24.1)\n",
      "Requirement already satisfied: python-dateutil>=2.8.2 in c:\\users\\alber\\anaconda3\\lib\\site-packages (from pandas>=1.5.0->fastparquet) (2.9.0.post0)\n",
      "Requirement already satisfied: pytz>=2020.1 in c:\\users\\alber\\anaconda3\\lib\\site-packages (from pandas>=1.5.0->fastparquet) (2024.1)\n",
      "Requirement already satisfied: tzdata>=2022.7 in c:\\users\\alber\\anaconda3\\lib\\site-packages (from pandas>=1.5.0->fastparquet) (2023.3)\n",
      "Requirement already satisfied: six>=1.5 in c:\\users\\alber\\anaconda3\\lib\\site-packages (from python-dateutil>=2.8.2->pandas>=1.5.0->fastparquet) (1.16.0)\n"
     ]
    }
   ],
   "source": [
    "#run this cell to install the fast parquet library\n",
    "!pip install fastparquet"
   ]
  },
  {
   "cell_type": "code",
   "execution_count": 4,
   "metadata": {},
   "outputs": [],
   "source": [
    "import pandas as pd"
   ]
  },
  {
   "cell_type": "markdown",
   "metadata": {},
   "source": [
    "## 1. Load the data\n",
    "Load the NYC Green Taxi Trip Records data directly from the URL into a data frame called tripdata_df. "
   ]
  },
  {
   "cell_type": "code",
   "execution_count": 6,
   "metadata": {},
   "outputs": [],
   "source": [
    "#let's load the data into a dataframe\n",
    "\n",
    "tripdata_df = pd.read_parquet(path = 'https://d37ci6vzurychx.cloudfront.net/trip-data/green_tripdata_2023-12.parquet', #provide the URL to the data source\n",
    "                      engine = 'fastparquet')\n",
    "\n",
    "#Note: you'll notice two new things. 1) We are using a new function called `read_parquet()` which indicates that we are \n",
    "#      reading data in parquet format. 2) We used the fastparquet library as the engine. \n",
    "#      That's it! Pandas will load the data into a dataframe. You can now use the dataframe for EDA.\n",
    "\n",
    "# Reminder: How does Pandas read other file formats?\n",
    "# 1. Excel files: pd.read_excel()\n",
    "# 2. CSV Files: pd.read_csv()\n",
    "# ... and now you know how to read parquet files using pd.read_parquet()\n"
   ]
  },
  {
   "cell_type": "markdown",
   "metadata": {},
   "source": [
    "## 2. Inspect the Data (5 pts) \n",
    "Inspect the data and perform the following: \n",
    "1. display the dimensions, and indicate if the variables have suitable types.\n",
    "2. convert all variables to suitable types\n",
    "\n",
    "*Tip*:  Think about whether the data type is accurate for the field. Refer to the data dictionary and review sample values in the dataframe before converting types. **Demonstrate ALL steps.**"
   ]
  },
  {
   "cell_type": "code",
   "execution_count": 8,
   "metadata": {},
   "outputs": [
    {
     "data": {
      "text/html": [
       "<div>\n",
       "<style scoped>\n",
       "    .dataframe tbody tr th:only-of-type {\n",
       "        vertical-align: middle;\n",
       "    }\n",
       "\n",
       "    .dataframe tbody tr th {\n",
       "        vertical-align: top;\n",
       "    }\n",
       "\n",
       "    .dataframe thead th {\n",
       "        text-align: right;\n",
       "    }\n",
       "</style>\n",
       "<table border=\"1\" class=\"dataframe\">\n",
       "  <thead>\n",
       "    <tr style=\"text-align: right;\">\n",
       "      <th></th>\n",
       "      <th>VendorID</th>\n",
       "      <th>lpep_pickup_datetime</th>\n",
       "      <th>lpep_dropoff_datetime</th>\n",
       "      <th>store_and_fwd_flag</th>\n",
       "      <th>RatecodeID</th>\n",
       "      <th>PULocationID</th>\n",
       "      <th>DOLocationID</th>\n",
       "      <th>passenger_count</th>\n",
       "      <th>trip_distance</th>\n",
       "      <th>fare_amount</th>\n",
       "      <th>extra</th>\n",
       "      <th>mta_tax</th>\n",
       "      <th>tip_amount</th>\n",
       "      <th>tolls_amount</th>\n",
       "      <th>ehail_fee</th>\n",
       "      <th>improvement_surcharge</th>\n",
       "      <th>total_amount</th>\n",
       "      <th>payment_type</th>\n",
       "      <th>trip_type</th>\n",
       "      <th>congestion_surcharge</th>\n",
       "    </tr>\n",
       "  </thead>\n",
       "  <tbody>\n",
       "    <tr>\n",
       "      <th>0</th>\n",
       "      <td>2.0</td>\n",
       "      <td>2023-12-01 00:27:37</td>\n",
       "      <td>2023-12-01 00:42:48</td>\n",
       "      <td>N</td>\n",
       "      <td>1.0</td>\n",
       "      <td>74.0</td>\n",
       "      <td>243.0</td>\n",
       "      <td>1.0</td>\n",
       "      <td>4.80</td>\n",
       "      <td>22.6</td>\n",
       "      <td>1.0</td>\n",
       "      <td>0.5</td>\n",
       "      <td>5.02</td>\n",
       "      <td>0.0</td>\n",
       "      <td>NaN</td>\n",
       "      <td>1.0</td>\n",
       "      <td>30.12</td>\n",
       "      <td>1.0</td>\n",
       "      <td>1.0</td>\n",
       "      <td>0.0</td>\n",
       "    </tr>\n",
       "    <tr>\n",
       "      <th>1</th>\n",
       "      <td>1.0</td>\n",
       "      <td>2023-12-01 00:42:57</td>\n",
       "      <td>2023-12-01 00:56:16</td>\n",
       "      <td>N</td>\n",
       "      <td>1.0</td>\n",
       "      <td>80.0</td>\n",
       "      <td>25.0</td>\n",
       "      <td>2.0</td>\n",
       "      <td>3.60</td>\n",
       "      <td>19.1</td>\n",
       "      <td>1.0</td>\n",
       "      <td>1.5</td>\n",
       "      <td>4.30</td>\n",
       "      <td>0.0</td>\n",
       "      <td>NaN</td>\n",
       "      <td>1.0</td>\n",
       "      <td>25.90</td>\n",
       "      <td>1.0</td>\n",
       "      <td>1.0</td>\n",
       "      <td>0.0</td>\n",
       "    </tr>\n",
       "    <tr>\n",
       "      <th>2</th>\n",
       "      <td>2.0</td>\n",
       "      <td>2023-12-01 00:29:51</td>\n",
       "      <td>2023-12-01 00:49:38</td>\n",
       "      <td>N</td>\n",
       "      <td>1.0</td>\n",
       "      <td>70.0</td>\n",
       "      <td>83.0</td>\n",
       "      <td>1.0</td>\n",
       "      <td>2.07</td>\n",
       "      <td>18.4</td>\n",
       "      <td>1.0</td>\n",
       "      <td>0.5</td>\n",
       "      <td>0.00</td>\n",
       "      <td>0.0</td>\n",
       "      <td>NaN</td>\n",
       "      <td>1.0</td>\n",
       "      <td>20.90</td>\n",
       "      <td>2.0</td>\n",
       "      <td>1.0</td>\n",
       "      <td>0.0</td>\n",
       "    </tr>\n",
       "    <tr>\n",
       "      <th>3</th>\n",
       "      <td>2.0</td>\n",
       "      <td>2023-12-01 00:09:57</td>\n",
       "      <td>2023-12-01 00:36:51</td>\n",
       "      <td>N</td>\n",
       "      <td>1.0</td>\n",
       "      <td>112.0</td>\n",
       "      <td>106.0</td>\n",
       "      <td>1.0</td>\n",
       "      <td>8.66</td>\n",
       "      <td>38.7</td>\n",
       "      <td>1.0</td>\n",
       "      <td>0.5</td>\n",
       "      <td>8.24</td>\n",
       "      <td>0.0</td>\n",
       "      <td>NaN</td>\n",
       "      <td>1.0</td>\n",
       "      <td>49.44</td>\n",
       "      <td>1.0</td>\n",
       "      <td>1.0</td>\n",
       "      <td>0.0</td>\n",
       "    </tr>\n",
       "    <tr>\n",
       "      <th>4</th>\n",
       "      <td>2.0</td>\n",
       "      <td>2023-12-01 01:02:41</td>\n",
       "      <td>2023-12-01 01:11:20</td>\n",
       "      <td>N</td>\n",
       "      <td>1.0</td>\n",
       "      <td>129.0</td>\n",
       "      <td>179.0</td>\n",
       "      <td>1.0</td>\n",
       "      <td>2.74</td>\n",
       "      <td>14.2</td>\n",
       "      <td>1.0</td>\n",
       "      <td>0.5</td>\n",
       "      <td>0.00</td>\n",
       "      <td>0.0</td>\n",
       "      <td>NaN</td>\n",
       "      <td>1.0</td>\n",
       "      <td>16.70</td>\n",
       "      <td>2.0</td>\n",
       "      <td>1.0</td>\n",
       "      <td>0.0</td>\n",
       "    </tr>\n",
       "  </tbody>\n",
       "</table>\n",
       "</div>"
      ],
      "text/plain": [
       "   VendorID lpep_pickup_datetime lpep_dropoff_datetime store_and_fwd_flag  \\\n",
       "0       2.0  2023-12-01 00:27:37   2023-12-01 00:42:48                  N   \n",
       "1       1.0  2023-12-01 00:42:57   2023-12-01 00:56:16                  N   \n",
       "2       2.0  2023-12-01 00:29:51   2023-12-01 00:49:38                  N   \n",
       "3       2.0  2023-12-01 00:09:57   2023-12-01 00:36:51                  N   \n",
       "4       2.0  2023-12-01 01:02:41   2023-12-01 01:11:20                  N   \n",
       "\n",
       "   RatecodeID  PULocationID  DOLocationID  passenger_count  trip_distance  \\\n",
       "0         1.0          74.0         243.0              1.0           4.80   \n",
       "1         1.0          80.0          25.0              2.0           3.60   \n",
       "2         1.0          70.0          83.0              1.0           2.07   \n",
       "3         1.0         112.0         106.0              1.0           8.66   \n",
       "4         1.0         129.0         179.0              1.0           2.74   \n",
       "\n",
       "   fare_amount  extra  mta_tax  tip_amount  tolls_amount  ehail_fee  \\\n",
       "0         22.6    1.0      0.5        5.02           0.0        NaN   \n",
       "1         19.1    1.0      1.5        4.30           0.0        NaN   \n",
       "2         18.4    1.0      0.5        0.00           0.0        NaN   \n",
       "3         38.7    1.0      0.5        8.24           0.0        NaN   \n",
       "4         14.2    1.0      0.5        0.00           0.0        NaN   \n",
       "\n",
       "   improvement_surcharge  total_amount  payment_type  trip_type  \\\n",
       "0                    1.0         30.12           1.0        1.0   \n",
       "1                    1.0         25.90           1.0        1.0   \n",
       "2                    1.0         20.90           2.0        1.0   \n",
       "3                    1.0         49.44           1.0        1.0   \n",
       "4                    1.0         16.70           2.0        1.0   \n",
       "\n",
       "   congestion_surcharge  \n",
       "0                   0.0  \n",
       "1                   0.0  \n",
       "2                   0.0  \n",
       "3                   0.0  \n",
       "4                   0.0  "
      ]
     },
     "execution_count": 8,
     "metadata": {},
     "output_type": "execute_result"
    }
   ],
   "source": [
    "#view samples of the data\n",
    "tripdata_df.head()"
   ]
  },
  {
   "cell_type": "code",
   "execution_count": 9,
   "metadata": {},
   "outputs": [
    {
     "name": "stdout",
     "output_type": "stream",
     "text": [
      "<class 'pandas.core.frame.DataFrame'>\n",
      "RangeIndex: 64215 entries, 0 to 64214\n",
      "Data columns (total 20 columns):\n",
      " #   Column                 Non-Null Count  Dtype         \n",
      "---  ------                 --------------  -----         \n",
      " 0   VendorID               64215 non-null  float64       \n",
      " 1   lpep_pickup_datetime   64215 non-null  datetime64[us]\n",
      " 2   lpep_dropoff_datetime  64215 non-null  datetime64[us]\n",
      " 3   store_and_fwd_flag     59303 non-null  object        \n",
      " 4   RatecodeID             59303 non-null  float64       \n",
      " 5   PULocationID           64215 non-null  float64       \n",
      " 6   DOLocationID           64215 non-null  float64       \n",
      " 7   passenger_count        59303 non-null  float64       \n",
      " 8   trip_distance          64215 non-null  float64       \n",
      " 9   fare_amount            64215 non-null  float64       \n",
      " 10  extra                  64215 non-null  float64       \n",
      " 11  mta_tax                64215 non-null  float64       \n",
      " 12  tip_amount             64215 non-null  float64       \n",
      " 13  tolls_amount           64215 non-null  float64       \n",
      " 14  ehail_fee              0 non-null      float64       \n",
      " 15  improvement_surcharge  64215 non-null  float64       \n",
      " 16  total_amount           64215 non-null  float64       \n",
      " 17  payment_type           59303 non-null  float64       \n",
      " 18  trip_type              59301 non-null  float64       \n",
      " 19  congestion_surcharge   59303 non-null  float64       \n",
      "dtypes: datetime64[us](2), float64(17), object(1)\n",
      "memory usage: 9.8+ MB\n"
     ]
    }
   ],
   "source": [
    "# Looking for info about tripdata_df (data types of each variable) \n",
    "tripdata_df.info()"
   ]
  },
  {
   "cell_type": "code",
   "execution_count": 10,
   "metadata": {},
   "outputs": [
    {
     "name": "stdout",
     "output_type": "stream",
     "text": [
      "There are 64215 rows and 20 columns.\n",
      "VendorID, RatecodeID, payment_type, and trip_type does not have suitable types.have suitable types. \n",
      "They are currently of type float, but according to Green Trips Data Dictionary,\n",
      "they can only be a set of integers representing various codes, so they should be of type category.\n",
      "passenger_count also does not have a suitable type because a passenger is a whole number, \n",
      "so it should be of type int, not float.\n",
      "store_and_fwd_flag is also not a suitable type because it is currently of type object, \n",
      "but it should be type string since it can either be Y or N.\n"
     ]
    }
   ],
   "source": [
    "# 1) Displaying the dimensions and indicating if the variables have suitable types\n",
    "print('There are {} rows and {} columns.'.format(tripdata_df.shape[0], tripdata_df.shape[1]))\n",
    "print('VendorID, RatecodeID, payment_type, and trip_type does not have suitable types.' \n",
    "      + 'have suitable types. \\nThey are currently of type float, but according' \n",
    "      + ' to Green Trips Data Dictionary,\\nthey can only be a set of integers representing various codes, so they should be of type category.')\n",
    "print('passenger_count also does not have a suitable type because a passenger is a whole number, \\nso it should be of type int, not float.')\n",
    "print('store_and_fwd_flag is also not a suitable type because it is currently of type object, \\nbut it should be type string since it can'\n",
    "     + ' either be Y or N.')"
   ]
  },
  {
   "cell_type": "code",
   "execution_count": 11,
   "metadata": {},
   "outputs": [],
   "source": [
    "# 2) Converting all variables to suitable types\n",
    "tripdata_df['VendorID'] = tripdata_df['VendorID'].astype('category')\n",
    "tripdata_df['RatecodeID'] = tripdata_df['RatecodeID'].astype('category')\n",
    "tripdata_df['payment_type'] = tripdata_df['payment_type'].astype('category')\n",
    "tripdata_df['trip_type'] = tripdata_df['trip_type'].astype('category')\n",
    "tripdata_df['passenger_count'] = tripdata_df['passenger_count'].astype('Int64')\n",
    "tripdata_df['store_and_fwd_flag'] = tripdata_df['store_and_fwd_flag'].astype('string')"
   ]
  },
  {
   "cell_type": "markdown",
   "metadata": {},
   "source": [
    "## 3. Types of Data (2 pts) \n",
    "Are there any categorical data in this dataset. If they exist, **demonstrate** at least two categorical variables and indicate if they are **nominal** or **ordinal** (hint: read the data dictionary above which describes all fields in the data)\n",
    "\n",
    "*Tip*: Justify why you classified each field as categorical. Provide your reasoning and the evidence to support your decision based on values in the data."
   ]
  },
  {
   "cell_type": "code",
   "execution_count": 13,
   "metadata": {},
   "outputs": [
    {
     "name": "stdout",
     "output_type": "stream",
     "text": [
      "Yes there are categorical data in this dataset.\n",
      "One categorical variable is VendorID and it is nominal because in the data dictionary, \n",
      "it says the VendorID is either 1 or 2 which represents the provider that provided the record. \n",
      "Based on this, I believe it is nominal because these are just two categories, 1 or 2, without a meaningful order or rank.\n",
      "Another categorical variable is store_and_fwd_flag and it is nominal because in the data dictionary, \n",
      "it says store_and_fwd_flag is is either Y or N which represents whether the trip was a store and forward trip, \n",
      "or not a store and forward trip. Based on this, I believe it is nominal because \n",
      "these are just two categories, Y or N, without a meaningful order or rank.\n"
     ]
    }
   ],
   "source": [
    "print('Yes there are categorical data in this dataset.')\n",
    "print('One categorical variable is VendorID and it is nominal because in the data dictionary, \\nit says'\n",
    "      + ' the VendorID is either 1 or 2 which represents the provider that provided the record. \\nBased on this, I believe it is nominal'\n",
    "      + ' because these are just two categories, 1 or 2, without a meaningful order or rank.')\n",
    "print('Another categorical variable is store_and_fwd_flag and it is nominal because in the data dictionary, \\nit says'\n",
    "     + ' store_and_fwd_flag is is either Y or N which represents whether the trip was a store and forward trip, \\nor not a store and '\n",
    "     + 'forward trip. Based on this, I believe it is nominal because \\nthese are just two categories, Y or N, without a meaningful order or rank.')"
   ]
  },
  {
   "cell_type": "markdown",
   "metadata": {},
   "source": [
    "## 4. Missing Values (10 pts) \n",
    "Evaluate the frequency of missing values in the dataset and perform the following:\n",
    "1. explain if missing values are an isolated case or a widespread issue? \n",
    "2. what method would you recommend to handle missing data?\n",
    "3. write the suitable code to handle the missing values.\n",
    "\n",
    "*Tip*: When handling missing values, evaluate the row-wise and column-wise data to make informed decisions regarding which approach is suitable. When in doubt, review the Canvas lectures & readings for guidance."
   ]
  },
  {
   "cell_type": "code",
   "execution_count": 15,
   "metadata": {},
   "outputs": [
    {
     "data": {
      "text/plain": [
       "VendorID                     0\n",
       "lpep_pickup_datetime         0\n",
       "lpep_dropoff_datetime        0\n",
       "store_and_fwd_flag        4912\n",
       "RatecodeID                4912\n",
       "PULocationID                 0\n",
       "DOLocationID                 0\n",
       "passenger_count           4912\n",
       "trip_distance                0\n",
       "fare_amount                  0\n",
       "extra                        0\n",
       "mta_tax                      0\n",
       "tip_amount                   0\n",
       "tolls_amount                 0\n",
       "ehail_fee                64215\n",
       "improvement_surcharge        0\n",
       "total_amount                 0\n",
       "payment_type              4912\n",
       "trip_type                 4914\n",
       "congestion_surcharge      4912\n",
       "dtype: int64"
      ]
     },
     "execution_count": 15,
     "metadata": {},
     "output_type": "execute_result"
    }
   ],
   "source": [
    "#checking the frequency of null values in each column\n",
    "tripdata_df.isnull().sum()"
   ]
  },
  {
   "cell_type": "code",
   "execution_count": 16,
   "metadata": {},
   "outputs": [
    {
     "data": {
      "text/plain": [
       "64214    7\n",
       "60942    7\n",
       "60935    7\n",
       "60936    7\n",
       "60937    7\n",
       "        ..\n",
       "21411    1\n",
       "21412    1\n",
       "21413    1\n",
       "21414    1\n",
       "32107    1\n",
       "Length: 64215, dtype: int64"
      ]
     },
     "execution_count": 16,
     "metadata": {},
     "output_type": "execute_result"
    }
   ],
   "source": [
    "tripdata_df.isnull().sum(axis=1).sort_values(ascending = False) #count the frequency of missing values in each row (i.e. how many columns are empty)"
   ]
  },
  {
   "cell_type": "code",
   "execution_count": 17,
   "metadata": {},
   "outputs": [
    {
     "name": "stdout",
     "output_type": "stream",
     "text": [
      "1    59301\n",
      "7     4912\n",
      "2        2\n",
      "Name: count, dtype: int64\n"
     ]
    }
   ],
   "source": [
    "# Figure out the amount of missing values per row\n",
    "missing_values_per_row = tripdata_df.isnull().sum(axis=1)\n",
    "missing_value_counts = missing_values_per_row.value_counts()\n",
    "\n",
    "print(missing_value_counts)"
   ]
  },
  {
   "cell_type": "code",
   "execution_count": 18,
   "metadata": {},
   "outputs": [
    {
     "name": "stdout",
     "output_type": "stream",
     "text": [
      "1) Missing values are an isolated case because out of the 20 columns, \n",
      "there are only 7 columns with missing values. \n",
      "One such column, ehail_fee, is all null values. Furthermore, only a small subset of rows are heavily impacted by \n",
      "missing values while the majority of rows only have 1 missing value. Thus, the issue of missing values is isolated, \n",
      "rather than widespread across the data.\n",
      "2) Since the variable ehail_fee is entirely null values, I will delete that column. \n",
      "Additionally, since rows are only missing less than 50% of its data, I will perform imputation on rows with missing data values. \n",
      "Furthermore, for columns with missing numerical values, I will substitute the missing values with its \n",
      "mean or median for that column. For columns with missing categorical values, I will use the mode instead.\n"
     ]
    }
   ],
   "source": [
    "print('1) Missing values are an isolated case because out of the 20 columns, \\nthere are only 7 columns with missing'\n",
    "     + ' values. \\nOne such column, ehail_fee, is all null values.'\n",
    "     + ' Furthermore, only a small subset of rows are heavily impacted by \\nmissing values'\n",
    "     + ' while the majority of rows only have 1 missing value. Thus, the issue of missing values is isolated,'\n",
    "     + ' \\nrather than widespread across the data.')\n",
    "print('2) Since the variable ehail_fee is entirely null values, I will delete that column. \\nAdditionally, since rows are only'\n",
    "     + ' missing less than 50% of its data, I will perform imputation on rows with missing data values. \\nFurthermore, '\n",
    "     + 'for columns with missing numerical values, I will substitute the missing values with its \\nmean or median for that column.'\n",
    "     + ' For columns with missing categorical values, I will use the mode instead.')"
   ]
  },
  {
   "cell_type": "code",
   "execution_count": 19,
   "metadata": {},
   "outputs": [],
   "source": [
    "# 3) Handling missing values starting here\n",
    "\n",
    "# Remove ehail_fee column since it only has missing values\n",
    "tripdata_df.drop(columns=['ehail_fee'], inplace=True)"
   ]
  },
  {
   "cell_type": "code",
   "execution_count": 20,
   "metadata": {},
   "outputs": [
    {
     "data": {
      "text/plain": [
       "store_and_fwd_flag\n",
       "N       59148\n",
       "<NA>     4912\n",
       "Y         155\n",
       "Name: count, dtype: Int64"
      ]
     },
     "execution_count": 20,
     "metadata": {},
     "output_type": "execute_result"
    }
   ],
   "source": [
    "# Display the frequency for each value of store_and_fwd_flag\n",
    "tripdata_df['store_and_fwd_flag'].value_counts(dropna=False) "
   ]
  },
  {
   "cell_type": "code",
   "execution_count": 21,
   "metadata": {},
   "outputs": [],
   "source": [
    "# imputation for store_and_fwd_flag by replacing missing values with mode, 'N'\n",
    "tripdata_df.loc[tripdata_df['store_and_fwd_flag'].isna(), 'store_and_fwd_flag'] = 'N'"
   ]
  },
  {
   "cell_type": "code",
   "execution_count": 22,
   "metadata": {},
   "outputs": [
    {
     "data": {
      "text/plain": [
       "RatecodeID\n",
       " 1.0     56704\n",
       "NaN       4912\n",
       " 5.0      2317\n",
       " 2.0       182\n",
       " 4.0        63\n",
       " 3.0        33\n",
       " 6.0         2\n",
       " 99.0        2\n",
       "Name: count, dtype: int64"
      ]
     },
     "execution_count": 22,
     "metadata": {},
     "output_type": "execute_result"
    }
   ],
   "source": [
    "# Display the frequency for each value of RatecodeID\n",
    "tripdata_df['RatecodeID'].value_counts(dropna=False) "
   ]
  },
  {
   "cell_type": "code",
   "execution_count": 23,
   "metadata": {},
   "outputs": [],
   "source": [
    "# imputation for RatecodeID by replacing missing values with mode, 1.0\n",
    "tripdata_df.loc[tripdata_df['RatecodeID'].isna(), 'RatecodeID'] = 1.0"
   ]
  },
  {
   "cell_type": "code",
   "execution_count": 24,
   "metadata": {},
   "outputs": [
    {
     "data": {
      "text/plain": [
       "passenger_count\n",
       "1       50227\n",
       "2        5119\n",
       "<NA>     4912\n",
       "5        1717\n",
       "6         768\n",
       "3         764\n",
       "0         462\n",
       "4         245\n",
       "7           1\n",
       "Name: count, dtype: Int64"
      ]
     },
     "execution_count": 24,
     "metadata": {},
     "output_type": "execute_result"
    }
   ],
   "source": [
    "# Display the frequency for each value of passenger_count\n",
    "tripdata_df['passenger_count'].value_counts(dropna=False)"
   ]
  },
  {
   "cell_type": "code",
   "execution_count": 25,
   "metadata": {},
   "outputs": [],
   "source": [
    "# imputation for passenger_count by replacing missing values with mode, 1\n",
    "tripdata_df.loc[tripdata_df['passenger_count'].isna(), 'passenger_count'] = 1"
   ]
  },
  {
   "cell_type": "code",
   "execution_count": 26,
   "metadata": {},
   "outputs": [
    {
     "data": {
      "text/plain": [
       "payment_type\n",
       " 1.0    39722\n",
       " 2.0    18970\n",
       "NaN      4912\n",
       " 3.0      460\n",
       " 4.0      151\n",
       "Name: count, dtype: int64"
      ]
     },
     "execution_count": 26,
     "metadata": {},
     "output_type": "execute_result"
    }
   ],
   "source": [
    "# Display the frequency for each value of payment_type\n",
    "tripdata_df['payment_type'].value_counts(dropna=False)"
   ]
  },
  {
   "cell_type": "code",
   "execution_count": 27,
   "metadata": {},
   "outputs": [],
   "source": [
    "# imputation for payment_type by replacing missing values with mode, 1.0\n",
    "tripdata_df.loc[tripdata_df['payment_type'].isna(), 'payment_type'] = 1.0"
   ]
  },
  {
   "cell_type": "code",
   "execution_count": 28,
   "metadata": {},
   "outputs": [
    {
     "data": {
      "text/plain": [
       "trip_type\n",
       " 1.0    57165\n",
       "NaN      4914\n",
       " 2.0     2136\n",
       "Name: count, dtype: int64"
      ]
     },
     "execution_count": 28,
     "metadata": {},
     "output_type": "execute_result"
    }
   ],
   "source": [
    "# Display the frequency for each value of trip_type\n",
    "tripdata_df['trip_type'].value_counts(dropna=False)"
   ]
  },
  {
   "cell_type": "code",
   "execution_count": 29,
   "metadata": {},
   "outputs": [],
   "source": [
    "# imputation for trip_type by replacing missing values with mode, 1.0\n",
    "tripdata_df.loc[tripdata_df['trip_type'].isna(), 'trip_type'] = 1.0"
   ]
  },
  {
   "cell_type": "code",
   "execution_count": 30,
   "metadata": {},
   "outputs": [
    {
     "data": {
      "text/plain": [
       "congestion_surcharge\n",
       " 0.00    43134\n",
       " 2.75    16025\n",
       " NaN      4912\n",
       " 2.50      138\n",
       "-2.75        6\n",
       "Name: count, dtype: int64"
      ]
     },
     "execution_count": 30,
     "metadata": {},
     "output_type": "execute_result"
    }
   ],
   "source": [
    "# Display the frequency for each value of congestion_surcharge\n",
    "tripdata_df['congestion_surcharge'].value_counts(dropna=False)"
   ]
  },
  {
   "cell_type": "code",
   "execution_count": 31,
   "metadata": {},
   "outputs": [],
   "source": [
    "# imputation for congestion_surcharge by replacing missing values with mode, 0.00\n",
    "tripdata_df.loc[tripdata_df['congestion_surcharge'].isna(), 'congestion_surcharge'] = 0.00"
   ]
  },
  {
   "cell_type": "markdown",
   "metadata": {},
   "source": [
    "## 5. Invalid Data (10 pts) \n",
    "Explore the data to determine if there are any invalid values and perform the following: \n",
    "1. demonstrate at least three issues that you found. **`NOTE`: The issues that you found should not include any aspects from the previous questions.**\n",
    "2. write suitable code to handle the invalid data that you found."
   ]
  },
  {
   "cell_type": "code",
   "execution_count": 33,
   "metadata": {},
   "outputs": [
    {
     "data": {
      "text/plain": [
       "RatecodeID\n",
       "1.0     61616\n",
       "5.0      2317\n",
       "2.0       182\n",
       "4.0        63\n",
       "3.0        33\n",
       "6.0         2\n",
       "99.0        2\n",
       "Name: count, dtype: int64"
      ]
     },
     "execution_count": 33,
     "metadata": {},
     "output_type": "execute_result"
    }
   ],
   "source": [
    "# Identifying 3 issues\n",
    "# Display the frequency for each value of RatecodeID\n",
    "tripdata_df['RatecodeID'].value_counts(dropna=False) "
   ]
  },
  {
   "cell_type": "code",
   "execution_count": 34,
   "metadata": {},
   "outputs": [
    {
     "name": "stdout",
     "output_type": "stream",
     "text": [
      "Issue #1) In RatecodeID, according to the data dictionary, it is only supposed to be 1, 2, 3, 4, 5, 6. \n",
      "Therefore, 99.0 is invalid data as it is not part of the data dictionary.\n"
     ]
    }
   ],
   "source": [
    "print('Issue #1) In RatecodeID, according to the data dictionary, it is only supposed to be 1, 2, 3, 4, 5, 6.'\n",
    "     + ' \\nTherefore, 99.0 is invalid data as it is not part of the data dictionary.')"
   ]
  },
  {
   "cell_type": "code",
   "execution_count": 35,
   "metadata": {},
   "outputs": [
    {
     "data": {
      "text/plain": [
       "extra\n",
       " 0.00     37444\n",
       " 2.50     11672\n",
       " 1.00     11293\n",
       " 2.75      1329\n",
       " 5.00       978\n",
       " 5.25       565\n",
       " 7.50       473\n",
       " 3.75       246\n",
       " 6.00        93\n",
       "-2.50        47\n",
       "-1.00        34\n",
       " 0.50        21\n",
       " 3.25        13\n",
       "-5.00         6\n",
       " 10.00        1\n",
       "Name: count, dtype: int64"
      ]
     },
     "execution_count": 35,
     "metadata": {},
     "output_type": "execute_result"
    }
   ],
   "source": [
    "# Display the frequency for each value of extra\n",
    "tripdata_df['extra'].value_counts(dropna=False)"
   ]
  },
  {
   "cell_type": "code",
   "execution_count": 36,
   "metadata": {},
   "outputs": [
    {
     "name": "stdout",
     "output_type": "stream",
     "text": [
      "Issue #2) In extra, according to the data dictionary, it is meant to represent \n",
      "additional surcharges of either $0.50 or $1, so extra should only result in positive values as it is a fee. \n",
      "However, there are negative values, such as -2.50, -1.00, and -5.00, which are invalid data since extra should only be positive values.\n"
     ]
    }
   ],
   "source": [
    "print('Issue #2) In extra, according to the data dictionary, it is meant to represent \\nadditional surcharges of either'\n",
    "     + ' $0.50 or $1, so extra should only result in positive values as it is a fee. \\nHowever, there are negative values, such as'\n",
    "     + ' -2.50, -1.00, and -5.00, which are invalid data since extra should only be positive values.')"
   ]
  },
  {
   "cell_type": "code",
   "execution_count": 37,
   "metadata": {},
   "outputs": [
    {
     "data": {
      "text/plain": [
       "mta_tax\n",
       " 0.50    48640\n",
       " 1.50     8238\n",
       " 0.00     7136\n",
       "-0.50      160\n",
       " 1.00       37\n",
       " 4.25        4\n",
       "Name: count, dtype: int64"
      ]
     },
     "execution_count": 37,
     "metadata": {},
     "output_type": "execute_result"
    }
   ],
   "source": [
    "# Display the frequency for each value of mta_tax\n",
    "tripdata_df['mta_tax'].value_counts(dropna=False)"
   ]
  },
  {
   "cell_type": "code",
   "execution_count": 38,
   "metadata": {},
   "outputs": [
    {
     "name": "stdout",
     "output_type": "stream",
     "text": [
      "Issue #3) In mta_tax, according to the data dictionary, it is meant to represent \n",
      "a tax of $0.50, thus mta_tax values should only result in positive values as it is a tax. \n",
      "However, there are negative values, such as -0.50, which is invalid data since mta_tax should only be positive values.\n"
     ]
    }
   ],
   "source": [
    "print('Issue #3) In mta_tax, according to the data dictionary, it is meant to represent \\na tax of $0.50, thus'\n",
    "     + ' mta_tax values should only result in positive values as it is a tax. \\nHowever, there are negative values, such as'\n",
    "     + ' -0.50, which is invalid data since mta_tax should only be positive values.')"
   ]
  },
  {
   "cell_type": "code",
   "execution_count": 39,
   "metadata": {},
   "outputs": [],
   "source": [
    "# Handling issue #1 by replacing invalid data with mode\n",
    "tripdata_df.loc[tripdata_df['RatecodeID'] == 99.0, 'RatecodeID'] = 1.0"
   ]
  },
  {
   "cell_type": "code",
   "execution_count": 40,
   "metadata": {},
   "outputs": [],
   "source": [
    "# Handling issue #2 by replacing invalid data with median\n",
    "\n",
    "# Calculate the median of valid values in the 'extra' column (excluding negative values)\n",
    "median_extra = tripdata_df[tripdata_df['extra'] >= 0]['extra'].median()\n",
    "\n",
    "# Replace negative values in the 'extra' column with the median\n",
    "tripdata_df.loc[tripdata_df['extra'] < 0, 'extra'] = median_extra"
   ]
  },
  {
   "cell_type": "code",
   "execution_count": 41,
   "metadata": {},
   "outputs": [],
   "source": [
    "# Handling issue #3 by replacing invalid data with median\n",
    "\n",
    "# Calculate the median of the valid mta_tax values (excluding negative values)\n",
    "median_mta_tax = tripdata_df.loc[tripdata_df['mta_tax'] > 0, 'mta_tax'].median()\n",
    "\n",
    "# Replace negative values in 'mta_tax' with the calculated median\n",
    "tripdata_df.loc[tripdata_df['mta_tax'] < 0, 'mta_tax'] = median_mta_tax"
   ]
  },
  {
   "cell_type": "markdown",
   "metadata": {},
   "source": [
    "<span style='color:red'>**Answer the following questions using the prepared data.**</span>"
   ]
  },
  {
   "cell_type": "markdown",
   "metadata": {},
   "source": [
    "## 6. Data Visualization (12 pts) \n",
    "Create bar charts that show the following: \n",
    "1. the most common way that New Yorkers request/hail a cab. \n",
    "2. the data **for each week** to determine if there are patterns in the frequency of trips based on the day of the week (i.e. Sun to Sat).\n",
    "3. the most common pick-up locations (display the top 5 locations). \n",
    "4. the most common drop-off locations (display the top 5 locations). \n",
    "\n",
    "Explain each chart.\n",
    "\n",
    "*`TIP`: If the answers from your analysis in this question contains erroneous or invalid numeric values, this means that the data needs to be cleaned to ensure that the analytical results are coherent.*"
   ]
  },
  {
   "cell_type": "code",
   "execution_count": 44,
   "metadata": {},
   "outputs": [],
   "source": [
    "import matplotlib.pyplot as plt"
   ]
  },
  {
   "cell_type": "code",
   "execution_count": 45,
   "metadata": {},
   "outputs": [
    {
     "data": {
      "image/png": "[encoded data removed]",
      "text/plain": [
       "<Figure size 400x300 with 1 Axes>"
      ]
     },
     "metadata": {},
     "output_type": "display_data"
    },
    {
     "name": "stdout",
     "output_type": "stream",
     "text": [
      "This chart represents the most common ways New Yorkers request/hail a cab. \n",
      "The x-axis represents the trip type: Street-hail and Dispatch. \n",
      "The y-axis represents the number of requests. \n",
      "Based on this graph, it is clear that the most common way New Yorkers request a cab is by street-hail as \n",
      "the bar for street-hail is over 60000 requests whiledispatch is less than 10000 requests.\n"
     ]
    }
   ],
   "source": [
    "# 1)\n",
    "\n",
    "# Count the occurrences of each trip type (street-hail vs dispatch)\n",
    "trip_type_counts = tripdata_df['trip_type'].value_counts()\n",
    "\n",
    "plt.figure(figsize=(4, 3))\n",
    "trip_type_counts.plot(kind='bar', color='blue')\n",
    "plt.title('Most Common Way New Yorkers Request/Hail a Cab')\n",
    "plt.xlabel('Trip Type')\n",
    "plt.ylabel('Number of requests')\n",
    "plt.xticks(ticks=range(len(trip_type_counts)), labels=['Street-hail', 'Dispatch'], rotation=0)\n",
    "plt.show()\n",
    "print(\"This chart represents the most common ways New Yorkers request/hail a cab. \\nThe x-axis represents the trip type: Street-hail and\"\n",
    "     + ' Dispatch. \\nThe y-axis represents the number of requests. \\nBased on this graph, it is clear that the most common'\n",
    "     + ' way New Yorkers request a cab is by street-hail as \\nthe bar for street-hail is over 60000 requests while'\n",
    "      + 'dispatch is less than 10000 requests.')"
   ]
  },
  {
   "cell_type": "code",
   "execution_count": 46,
   "metadata": {},
   "outputs": [
    {
     "data": {
      "image/png": "[encoded data removed]",
      "text/plain": [
       "<Figure size 400x400 with 1 Axes>"
      ]
     },
     "metadata": {},
     "output_type": "display_data"
    },
    {
     "name": "stdout",
     "output_type": "stream",
     "text": [
      "This chart represents the frequency of trips based on the day of the week. \n",
      "The x-axis represents the day of the week. \n",
      "The y-axis represents the number of trips. \n",
      "Based on this graph, there is a pattern in the frequency of trips based on the day of the week: Sunday and Monday \n",
      "have about the same number of trips, Tuesday has slightly more trips compared to Sunday and Monday, Wednesday \n",
      "and Thursday and Saturday have about the same number of trips and is slightly more than Tuesday, \n",
      "and Friday spikes the highest with the most number of trips.\n"
     ]
    }
   ],
   "source": [
    "# 2)\n",
    "\n",
    "# Extract the days of the week\n",
    "day_of_week_counts = tripdata_df['lpep_pickup_datetime'].dt.dayofweek.value_counts()\n",
    "\n",
    "# Sort the days to become Sunday (6) to Saturday (0)\n",
    "day_of_week_counts = day_of_week_counts.reindex([6, 0, 1,\n",
    "                                                 2, 3, 4, 5])\n",
    "\n",
    "# Map the number values to day names\n",
    "day_of_week_counts.index = day_of_week_counts.index.map({\n",
    "    0: 'Monday', 1: 'Tuesday', 2: 'Wednesday',\n",
    "    3: 'Thursday', 4: 'Friday',\n",
    "    5: 'Saturday', 6: 'Sunday'})\n",
    "\n",
    "plt.figure(figsize=(4, 4))\n",
    "day_of_week_counts.plot(kind='bar', color='blue')\n",
    "plt.title('Frequency of Trips Based on Day of the Week')\n",
    "plt.xlabel('Day of the Week')\n",
    "plt.ylabel('Number of Trips')\n",
    "plt.xticks(rotation=45)\n",
    "plt.show()\n",
    "\n",
    "print(\"This chart represents the frequency of trips based on the day of the week. \\nThe x-axis represents the day of the week. \"\n",
    "     + '\\nThe y-axis represents the number of trips. \\nBased on this graph, there is a pattern in the frequency of trips'\n",
    "     + ' based on the day of the week: Sunday and Monday \\nhave about the same number of trips, Tuesday has slightly more '\n",
    "     + 'trips compared to Sunday and Monday, Wednesday \\nand Thursday and Saturday have about the same number of trips and '\n",
    "     + 'is slightly more than Tuesday, \\nand Friday spikes the highest with the most number of trips.')"
   ]
  },
  {
   "cell_type": "code",
   "execution_count": 47,
   "metadata": {},
   "outputs": [
    {
     "data": {
      "image/png": "[encoded data removed]",
      "text/plain": [
       "<Figure size 400x200 with 1 Axes>"
      ]
     },
     "metadata": {},
     "output_type": "display_data"
    },
    {
     "name": "stdout",
     "output_type": "stream",
     "text": [
      "This chart represents the top 5 most common pick-up locations. \n",
      "The x-axis represents the pick-up location IDs with\n",
      " 74.0, 75.0, 82.0, 41.0, and 95.0 being pick-up location IDs for the most common pick-up locations. \n",
      "The y-axis represents the number of trips. \n",
      "Based on the chart, pick-up location ID 74.0 is the most common pick-up location at over 10000 trips, \n",
      "then pick-up location ID 75.0 at about 8000 trips, \n",
      "then pick-up location IDs 82.0, 41.0, and 95.0 all have the \n",
      "least number of trips out of the top 5 at about 2500 each.\n"
     ]
    }
   ],
   "source": [
    "# 3)\n",
    "\n",
    "# Count the occurrences of each pick-up location (PULocationID)\n",
    "pickup_location_counts = tripdata_df['PULocationID'].value_counts()\n",
    "\n",
    "# Select the top 5 most common pick-up locations\n",
    "top_5_pickup_locations = pickup_location_counts.head(5)\n",
    "\n",
    "plt.figure(figsize=(4, 2))\n",
    "top_5_pickup_locations.plot(kind='bar', color='blue')\n",
    "plt.title('Top 5 Most Common Pick-Up Locations')\n",
    "plt.xlabel('Pick-Up Location ID')\n",
    "plt.ylabel('Number of Trips')\n",
    "plt.xticks(rotation=45)\n",
    "plt.show()\n",
    "\n",
    "print('This chart represents the top 5 most common pick-up locations. \\nThe x-axis represents the pick-up location IDs with\\n '\n",
    "     + '74.0, 75.0, 82.0, 41.0, and 95.0 being pick-up location IDs for the most common pick-up locations. \\nThe y-axis '\n",
    "     + 'represents the number of trips. \\nBased on the chart, pick-up location ID 74.0 is the most common pick-up location '\n",
    "     + 'at over 10000 trips, \\nthen pick-up location ID 75.0 at about 8000 trips, \\nthen pick-up location IDs 82.0, 41.0, and 95.0 '\n",
    "     + 'all have the \\nleast number of trips out of the top 5 at about 2500 each.')"
   ]
  },
  {
   "cell_type": "code",
   "execution_count": 48,
   "metadata": {},
   "outputs": [
    {
     "data": {
      "image/png": "[encoded data removed]",
      "text/plain": [
       "<Figure size 400x300 with 1 Axes>"
      ]
     },
     "metadata": {},
     "output_type": "display_data"
    },
    {
     "name": "stdout",
     "output_type": "stream",
     "text": [
      "This chart represents the top 5 most common drop-off locations. \n",
      "The x-axis represents the drop-off location IDs with\n",
      " 75.0, 74.0, 236.0, 41.0, and 238.0 being drop-off locations for the most common drop-off locations. \n",
      "The y-axis represents the number of trips. \n",
      "Based don the chart, drop-off location ID 75.0 is the most common drop-off location at over 3000 trips, \n",
      "then drop-off location ID 74.0 at about 3000 trips, then ID 236.0 at about 2800 trips, \n",
      "then ID 41.0 at about 2400 trips, and ID 238.0 at about 2300 trips.\n"
     ]
    }
   ],
   "source": [
    "# 4) the most common drop-off locations (display the top 5 locations).\n",
    "\n",
    "# Count the occurrences of each drop-off location (DOLocationID)\n",
    "dropoff_location_counts = tripdata_df['DOLocationID'].value_counts()\n",
    "\n",
    "# Select the top 5 most common drop-off locations\n",
    "top_5_dropoff_locations = dropoff_location_counts.head(5)\n",
    "\n",
    "plt.figure(figsize=(4, 3))\n",
    "top_5_dropoff_locations.plot(kind='bar', color='blue')\n",
    "plt.title('Top 5 Most Common Drop-Off Locations')\n",
    "plt.xlabel('Drop-Off Location ID')\n",
    "plt.ylabel('Number of Trips')\n",
    "plt.xticks(rotation=45)\n",
    "plt.show()\n",
    "\n",
    "print(\"This chart represents the top 5 most common drop-off locations. \\nThe x-axis represents the drop-off location IDs with\\n \"\n",
    "     + '75.0, 74.0, 236.0, 41.0, and 238.0 being drop-off locations for the most common drop-off locations. \\nThe y-axis '\n",
    "     + 'represents the number of trips. \\nBased don the chart, drop-off location ID 75.0 is the most common drop-off location '\n",
    "     + 'at over 3000 trips, \\nthen drop-off location ID 74.0 at about 3000 trips, then ID 236.0 at about 2800 trips, \\nthen ID 41.0 at '\n",
    "     + 'about 2400 trips, and ID 238.0 at about 2300 trips.')"
   ]
  },
  {
   "cell_type": "markdown",
   "metadata": {},
   "source": [
    "## 7. Data Analysis (9 pts)\n",
    "Write suitable code to answer the following:\n",
    "1. Calculate the **range** of distances traveled by the green taxis. Then, compare the average distance with the shortest and longest distances. What insights can be drawn about travel using these taxis?\n",
    "2. What is the most expensive and least expensive trip? \n",
    "3. What is the minimum, average and maximum **tip amount** for all trips that are 1) under 2 miles and 2) over 2 miles (i.e. >= 2)? \n",
    "\n",
    "Explain the results.\n",
    "\n",
    "*`TIP`: If the answers from your analysis in this question contains erroneous or invalid numeric values, this means that the data needs to be cleaned to ensure that the analytical results are coherent.*"
   ]
  },
  {
   "cell_type": "code",
   "execution_count": 50,
   "metadata": {},
   "outputs": [
    {
     "name": "stdout",
     "output_type": "stream",
     "text": [
      "I removed trip distances over 1000 miles because there only 47 trips over 1000 miles compared to 64168 trips under 1000 miles, \n",
      "which makes trips over 1000 miles seem like outliers, thus erroneous values. \n",
      "Additionally, considering that the most expensive trip is only $1622.6 , \n",
      "this makes the trips over 1000 miles seem even more unusual and potentially an incorrect value.\n",
      "\n",
      "Shortest distance traveled: 0.0 miles\n",
      "Longest distance traveled: 249.69 miles\n",
      "Average distance traveled: 2.88 miles\n",
      "The range distance traveled: 249.69 miles\n",
      "\n",
      "The average distance is 2.89 miles and compared to the shortest distance traveled, 0.0 miles, \n",
      "the average distance is 2.89 miles greater than the shortest distance. \n",
      "Comparing the average distance to the longest distance traveled, the average distance is \n",
      "246.8 miles less compared to the longest distance traveled. \n",
      "A insight that can be drawn about travel using taxis is that even though there are travel distance \n",
      "at 0 miles and at 249.69 miles, there are more travel distance closer to the shortest distance because \n",
      "the average distance traveled is 2.89 miles. Another insight that could be made is that since \n",
      "the shortest distance traveled is 0.0 miles, there were trips that were extremely short.\n"
     ]
    }
   ],
   "source": [
    "# 1)\n",
    "# Finding most expensive trip\n",
    "most_expensive = tripdata_df['total_amount'].max()\n",
    "\n",
    "# Finding number of trips over 1000 miles\n",
    "num_trips_over_1000_miles_count = tripdata_df[tripdata_df['trip_distance'] > 1000].shape[0]\n",
    "\n",
    "# Finding number of trips under 1000 miles\n",
    "num_trips_under_1000_miles_count = tripdata_df[tripdata_df['trip_distance'] < 1000].shape[0]\n",
    "\n",
    "\n",
    "# Removing erroneous values from the data based on the most expensive trip by only considering trips\n",
    "# under 1000 miles.\n",
    "tripdata_df = tripdata_df[tripdata_df['trip_distance'] < 1000]\n",
    "print('I removed trip distances over 1000 miles because there only ' + str(num_trips_over_1000_miles_count)\n",
    "     + ' trips over 1000 miles compared to ' + str(num_trips_under_1000_miles_count)\n",
    "     + ' trips under 1000 miles, \\nwhich makes trips over 1000 miles seem like outliers, thus erroneous values.'\n",
    "     + ' \\nAdditionally, considering that the most expensive trip is only $' + str(most_expensive)\n",
    "     + ' , \\nthis makes the trips over 1000 miles seem even more unusual and potentially an incorrect value.')\n",
    "\n",
    "\n",
    "# calculate minimum distance\n",
    "min_distance = tripdata_df['trip_distance'].min()\n",
    "# calculate maximum distance\n",
    "max_distance = tripdata_df['trip_distance'].max()\n",
    "# calculate average distance\n",
    "avg_distance = tripdata_df['trip_distance'].mean()\n",
    "# calculate range distance\n",
    "range_distance = max_distance - min_distance\n",
    "\n",
    "print(\"\\nShortest distance traveled: \" + str(min_distance) + \" miles\")\n",
    "print(\"Longest distance traveled: \" + str(max_distance) + \" miles\")\n",
    "print(\"Average distance traveled: \" + str(avg_distance.round(2)) + \" miles\")\n",
    "print(\"The range distance traveled: \" + str(range_distance) + \" miles\")\n",
    "\n",
    "print(\"\\nThe average distance is 2.89 miles and compared to the shortest distance traveled, 0.0 miles, \\nthe average distance \"\n",
    "     + 'is 2.89 miles greater than the shortest distance. \\nComparing the average distance to the longest distance traveled, '\n",
    "     + 'the average distance is \\n246.8 miles less compared to the longest distance traveled. \\nA insight that can be '\n",
    "     + 'drawn about travel using taxis is that even though there are travel distance \\nat 0 miles and at 249.69 miles, '\n",
    "     + 'there are more travel distance closer to the shortest distance because \\nthe average distance traveled is 2.89 miles.'\n",
    "     + ' Another insight that could be made is that since \\nthe shortest distance traveled is 0.0 miles, there were trips '\n",
    "     + 'that were extremely short.')"
   ]
  },
  {
   "cell_type": "code",
   "execution_count": 51,
   "metadata": {},
   "outputs": [
    {
     "name": "stdout",
     "output_type": "stream",
     "text": [
      "The most expensive trip costs: $1622.60\n",
      "The least expensive trip costs: $0.00\n",
      "After removing invalid numeric values, trips that costs less than $0.00, \n",
      "the data shows that the most expensive trip costs $1622.60 compared to the least expensive trip that costs $0.00.\n"
     ]
    }
   ],
   "source": [
    "# 2\n",
    "\n",
    "# Filter out rows where total_amount is less than 0 since total_amount should only be 0 or more\n",
    "tripdata_df = tripdata_df[tripdata_df['total_amount'] >= 0]\n",
    "\n",
    "# Find the most expensive and least expensive trips\n",
    "most_expensive_trip = tripdata_df['total_amount'].max()\n",
    "least_expensive_trip = tripdata_df['total_amount'].min()\n",
    "\n",
    "# Display the results\n",
    "print(\"The most expensive trip costs: $\" + format(most_expensive_trip, \".2f\"))\n",
    "print(\"The least expensive trip costs: $\" + format(least_expensive_trip, \".2f\"))\n",
    "\n",
    "print('After removing invalid numeric values, trips that costs less than $0.00, \\nthe data shows that the '\n",
    "     + 'most expensive trip costs $1622.60 compared to the least expensive trip that costs $0.00.')"
   ]
  },
  {
   "cell_type": "code",
   "execution_count": 52,
   "metadata": {},
   "outputs": [
    {
     "name": "stdout",
     "output_type": "stream",
     "text": [
      "Trips under 2 miles:\n",
      "  Minimum tip: $0.00\n",
      "  Average tip: $1.51\n",
      "  Maximum tip: $150.00\n",
      "\n",
      "Trips 2 miles or more:\n",
      "  Minimum tip: $0.00\n",
      "  Average tip: $3.17\n",
      "  Maximum tip: $100.00\n",
      "\n",
      "For trips under 2 miles, the minimum tip was $0.00 while the maximum tip was $150.00, \n",
      "and the average tip was $1.51, so that means more tips for trips under 2 miles were closer \n",
      "to the minimum than the maximum tip since $1.51 is closer to $0.00 than $150.00.\n",
      "For trips 2 miles or more, The minimum tip was $0.00 while the maximum tip was $100.00, \n",
      "and the average tip was $3.17, so that means more tips for trips 2 miles or more were also \n",
      "closer to the minimum than the maximum tip since $3.17 is closer to $0.00 than $100.00\n",
      "Comparing the tips for both categories, both had the same minimum tip of $0.00, \n",
      "the maximum tip was higher for trips under 2 miles at $150.00 compared to $100.00 for trips 2 miles or more. \n",
      "The average tip was higher for trips 2 miles or more at $3.17 compared to $1.51 for trips under 2 miles.\n"
     ]
    }
   ],
   "source": [
    "# 3 What is the minimum, average and maximum tip amount for all trips that are 1) under 2 miles and 2) over 2 miles (i.e. >= 2)?\n",
    "\n",
    "# Filter trips for under 2 miles\n",
    "trips_under_2_miles = tripdata_df[tripdata_df['trip_distance'] < 2]\n",
    "# Filter trips for 2 miles or more\n",
    "trips_2_or_more_miles = tripdata_df[tripdata_df['trip_distance'] >= 2]\n",
    "\n",
    "# Calculate minimum tip amount for trips under 2 miles\n",
    "min_tip_under_2 = trips_under_2_miles['tip_amount'].min()\n",
    "# Calculate average tip amount for trips under 2 miles\n",
    "avg_tip_under_2 = trips_under_2_miles['tip_amount'].mean()\n",
    "# Calculate maximum  tip amount for trips under 2 miles\n",
    "max_tip_under_2 = trips_under_2_miles['tip_amount'].max()\n",
    "\n",
    "# Calculate minimum tip for trips 2 miles or more\n",
    "min_tip_2_or_more = trips_2_or_more_miles['tip_amount'].min()\n",
    "# Calculate average tip for trips 2 miles or more\n",
    "avg_tip_2_or_more = trips_2_or_more_miles['tip_amount'].mean()\n",
    "# Calculate maximum tip for trips 2 miles or more\n",
    "max_tip_2_or_more = trips_2_or_more_miles['tip_amount'].max()\n",
    "\n",
    "# Display results\n",
    "print(\"Trips under 2 miles:\")\n",
    "print(\"  Minimum tip: $\" + format(min_tip_under_2, \".2f\"))\n",
    "print(\"  Average tip: $\" + format(avg_tip_under_2, \".2f\"))\n",
    "print(\"  Maximum tip: $\" + format(max_tip_under_2, \".2f\"))\n",
    "\n",
    "print(\"\\nTrips 2 miles or more:\")\n",
    "print(\"  Minimum tip: $\" + format(min_tip_2_or_more, \".2f\"))\n",
    "print(\"  Average tip: $\" + format(avg_tip_2_or_more, \".2f\"))\n",
    "print(\"  Maximum tip: $\" + format(max_tip_2_or_more, \".2f\"))\n",
    "\n",
    "print('\\nFor trips under 2 miles, the minimum tip was $0.00 while the maximum tip was $150.00, \\nand the average tip was '\n",
    "     + '$1.51, so that means more tips for trips under 2 miles were closer \\nto the minimum than the maximum tip since '\n",
    "     + '$1.51 is closer to $0.00 than $150.00.')\n",
    "print('For trips 2 miles or more, The minimum tip was $0.00 while the maximum tip was $100.00, \\nand the average tip was '\n",
    "     + '$3.17, so that means more tips for trips 2 miles or more were also \\ncloser to the minimum than the maximum tip since '\n",
    "     + '$3.17 is closer to $0.00 than $100.00')\n",
    "print('Comparing the tips for both categories, both had the same minimum tip of $0.00, \\nthe maximum tip was higher for trips under '\n",
    "     + '2 miles at $150.00 compared to $100.00 for trips 2 miles or more. \\nThe average tip was higher for trips 2 miles or more '\n",
    "     + 'at $3.17 compared to $1.51 for trips under 2 miles.')"
   ]
  },
  {
   "cell_type": "markdown",
   "metadata": {},
   "source": [
    "## 8. Findings (2 pts)\n",
    "Based on the preliminary analysis, is this data a viable source that can be used by your team in the future to understand how New Yorkers use these taxis? Justify your response."
   ]
  },
  {
   "cell_type": "code",
   "execution_count": 54,
   "metadata": {},
   "outputs": [
    {
     "name": "stdout",
     "output_type": "stream",
     "text": [
      "Based on my preliminary analysis of giving variables suitable types, handling missing values, handling invalid data, \n",
      "and removing erroneous or invalid numeric values, such as outliers, I would consider this data a viable source \n",
      "that can be used by my team in the future to understand how New Yorkers use these taxis. I consider this a viable \n",
      "source of data because it has a large sample size, and has many variables. This source having a large same size \n",
      "makes this a viable source of data because it will allow for more precision and make it more likely that conclusions \n",
      "will hold since the analysis would be based on a large and representative data set compared to smaller data sets. \n",
      "This data having many variables will also make this a viable source because it will allow for more analysis on if \n",
      "there are relationships in the data, such as relationships between the variables total_amount and trip_distance.\n"
     ]
    }
   ],
   "source": [
    "print('Based on my preliminary analysis of giving variables suitable types, handling missing values, handling invalid data, '\n",
    "     + '\\nand removing erroneous or invalid numeric values, such as outliers, I would consider this data a viable source '\n",
    "     + '\\nthat can be used by my team in the future to understand how New Yorkers use these taxis. I consider this a viable '\n",
    "     + '\\nsource of data because it has a large sample size, and has many variables. This source having a large same size '\n",
    "     + '\\nmakes this a viable source of data because it will allow for more precision and make it more likely that conclusions '\n",
    "     + '\\nwill hold since the analysis would be based on a large and representative data set compared to smaller data sets. '\n",
    "     + '\\nThis data having many variables will also make this a viable source because it will allow for more analysis on if '\n",
    "     + '\\nthere are relationships in the data, such as relationships between the variables total_amount and trip_distance.')"
   ]
  }
 ],
 "metadata": {
  "kernelspec": {
   "display_name": "Python [conda env:base] *",
   "language": "python",
   "name": "conda-base-py"
  },
  "language_info": {
   "codemirror_mode": {
    "name": "ipython",
    "version": 3
   },
   "file_extension": ".py",
   "mimetype": "text/x-python",
   "name": "python",
   "nbconvert_exporter": "python",
   "pygments_lexer": "ipython3",
   "version": "3.12.7"
  }
 },
 "nbformat": 4,
 "nbformat_minor": 4
}
