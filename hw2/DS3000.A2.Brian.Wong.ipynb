{
 "cells": [
  {
   "cell_type": "markdown",
   "metadata": {},
   "source": [
    "# DS 3000 - Assignment [2]\n",
    "\n",
    "**Student Name**: [Brian Wong]\n",
    "\n",
    "**Date**: [1/14/2025]\n",
    "\n",
    "\n",
    "### Submission Instructions\n",
    "Submit this `ipynb` file to canvas.\n",
    "\n",
    "The `ipynb` format stores outputs from the last time you ran the notebook.  (When you open a notebook it has the figures and outputs of the last time you ran it too).  To ensure that your submitted `ipynb` file represents your latest code, make sure to give a fresh run `Kernel > Restart & Run All` just before uploading the `ipynb` file to Canvas.\n",
    "\n",
    "### Academic Integrity\n",
    "\n",
    "**Writing your homework is an individual effort.**  You may discuss general python problems with other students but under no circumstances should you observe another student's code which was written for this assignment, from this year or past years.  Pop into office hours or DM us in MS Teams if you have a specific question about your work or if you would like another pair of eyes or talk through your code.\n",
    "\n",
    "Don't forget to cite websites which helped you solve a problem in a unique way.  You can do this in markdown near the code or with a simple one-line comment. You do not need to cite the official python documentation.\n",
    "\n",
    "**Documentation / style counts for credit**  Please refer to the Pep-8 style, to improve the readability and consistency of your Python code. For more information, read the following article [How to Write Beautiful Python Code With PEP 8](https://realpython.com/python-pep8/) or ask your TA's for tips.\n",
    "\n",
    "**NOTE:<span style='color:red'> Write python expressions to answer ALL questions below and ensure that you use the `print()` function to display the output.</span>** Each question should be answered in a new code cell. For example, your solution for question 1.1 should be in a different code cell from your solution for question 1.2."
   ]
  },
  {
   "cell_type": "markdown",
   "metadata": {},
   "source": [
    "## Question 1: Analyzing numeric Data (50 pts) \n",
    "\n",
    "TODO: The data that you are working with pertains to the risk factors that are associated with low infant birth weight**. The data contains the following fields:\n",
    "\n",
    "low:\n",
    "indicator of birth weight less than 2.5 kg.\n",
    "\n",
    "age:\n",
    "mother's age in years.\n",
    "\n",
    "lwt:\n",
    "mother's weight in pounds at last menstrual period.\n",
    "\n",
    "race:\n",
    "mother's race (1 = white, 2 = black, 3 = other).\n",
    "\n",
    "smoke:\n",
    "smoking status during pregnancy  (0 = false, 1 = true).\n",
    "\n",
    "ptl:\n",
    "number of previous premature labors.\n",
    "\n",
    "ht:\n",
    "history of hypertension (0 = false, 1 = true).\n",
    "\n",
    "ui:\n",
    "presence of uterine irritability.\n",
    "\n",
    "ftv:\n",
    "number of physician visits during the first trimester.\n",
    "\n",
    "bwt:\n",
    "birth weight in grams.\n",
    "\n",
    "Write python code to answer the questions below and ensure that you <b>round all numeric calculations (i.e. floats) to 2 decimal places (unless indicated otherwise).</b>\n",
    "Tip: you will need to filter for conditions that are true before performing certain calculations.\n"
   ]
  },
  {
   "cell_type": "code",
   "execution_count": 3,
   "metadata": {},
   "outputs": [],
   "source": [
    "import numpy as np"
   ]
  },
  {
   "cell_type": "markdown",
   "metadata": {},
   "source": [
    "## Question 1.1: \n",
    "TODO: (5 pts) Load the attached data into a numpy array and display the dimensions of the data : birthwt.csvDownload birthwt.csv\n",
    "Note: do not count the column headers, only the data.\n"
   ]
  },
  {
   "cell_type": "code",
   "execution_count": 5,
   "metadata": {},
   "outputs": [
    {
     "name": "stdout",
     "output_type": "stream",
     "text": [
      "(189, 10)  189 rows and 10 columns, excluding column headers\n"
     ]
    }
   ],
   "source": [
    "data = np.loadtxt('birthwt.csv',\n",
    "                 delimiter = ',',\n",
    "                 skiprows = 1)\n",
    "print(data.shape, \" 189 rows and 10 columns, excluding column headers\")"
   ]
  },
  {
   "cell_type": "markdown",
   "metadata": {},
   "source": [
    "## Question 1.2: \n",
    "TODO: (3 pts) What is the age range of mothers in this dataset.\n",
    "Note: the range should include: the minimum, average and maximum age. Ensure that the ages are represented as whole numbers."
   ]
  },
  {
   "cell_type": "code",
   "execution_count": 7,
   "metadata": {},
   "outputs": [
    {
     "name": "stdout",
     "output_type": "stream",
     "text": [
      "The minimum age of mothers in this dataset is:  14\n",
      "The maximum age of mothers in this dataset is:  45\n",
      "The average age of mothers in this dataset is:  23\n",
      "The age range of mothers in this dataset is:  31\n"
     ]
    }
   ],
   "source": [
    "min_age = np.min(data[:,1])\n",
    "print('The minimum age of mothers in this dataset is: ', int(min_age))\n",
    "max_age = np.max(data[:,1])\n",
    "print('The maximum age of mothers in this dataset is: ', int(max_age))\n",
    "avg_age = round(np.mean(data[:,1]))\n",
    "print('The average age of mothers in this dataset is: ', int(avg_age))\n",
    "range = max_age - min_age\n",
    "print('The age range of mothers in this dataset is: ', int(range))"
   ]
  },
  {
   "cell_type": "markdown",
   "metadata": {},
   "source": [
    "## Question 1.3: \n",
    "TODO: (2 pts) How many mothers smoked during pregnancy?"
   ]
  },
  {
   "cell_type": "code",
   "execution_count": 9,
   "metadata": {},
   "outputs": [
    {
     "name": "stdout",
     "output_type": "stream",
     "text": [
      "74  mothers smoked during pregnancy.\n"
     ]
    }
   ],
   "source": [
    "smoke = data[:,4]\n",
    "num_smoke = smoke[smoke == 1]\n",
    "length = len(num_smoke)\n",
    "print(length, \" mothers smoked during pregnancy.\")"
   ]
  },
  {
   "cell_type": "markdown",
   "metadata": {},
   "source": [
    "## Question 1.4: \n",
    "TODO: (2 pts) How many mothers had a history of hypertension?"
   ]
  },
  {
   "cell_type": "code",
   "execution_count": 11,
   "metadata": {},
   "outputs": [
    {
     "name": "stdout",
     "output_type": "stream",
     "text": [
      "12  mothers had a history of hypertension.\n"
     ]
    }
   ],
   "source": [
    "ht = data[:,6]\n",
    "num_ht = ht[ht == 1]\n",
    "length = len(num_ht)\n",
    "print(length, \" mothers had a history of hypertension.\")"
   ]
  },
  {
   "cell_type": "markdown",
   "metadata": {},
   "source": [
    "## Question 1.5: \n",
    "TODO: (3 pts) How many mothers have 1 or more premature births?"
   ]
  },
  {
   "cell_type": "code",
   "execution_count": 13,
   "metadata": {},
   "outputs": [
    {
     "name": "stdout",
     "output_type": "stream",
     "text": [
      "30  mothers have 1 or more premature births.\n"
     ]
    }
   ],
   "source": [
    "ptl = data[:,5]\n",
    "num_ptl = ptl[ptl >= 1]\n",
    "length = len(num_ptl)\n",
    "print(length, \" mothers have 1 or more premature births.\")"
   ]
  },
  {
   "cell_type": "markdown",
   "metadata": {},
   "source": [
    "## Question 1.6: \n",
    "TODO: (5 pts) Create a function called convert_birthweight() that:\n",
    "- takes grams as input,\n",
    "- converts grams to the equivalent pounds and ounces\n",
    "example format: X grams = Y lbs Z oz; note: X, Y and Z are placeholders for numeric values.\n",
    "- return the converted value.\n",
    "Use the convert_birthweight() function to convert the birth weight to pounds and ounces in the questions 7-11 below."
   ]
  },
  {
   "cell_type": "code",
   "execution_count": 15,
   "metadata": {},
   "outputs": [],
   "source": [
    "def convert_birthweight(grams):\n",
    "    grams_per_pound = 453.59237\n",
    "    ounces_per_pound = 16\n",
    "    pounds = grams / grams_per_pound\n",
    "    whole_pounds = int(pounds)\n",
    "    remaining_ounces = (pounds - whole_pounds) * ounces_per_pound\n",
    "    whole_ounces = round(remaining_ounces, 2)\n",
    "    return f\"{whole_pounds} pounds and {whole_ounces} ounces\""
   ]
  },
  {
   "cell_type": "markdown",
   "metadata": {},
   "source": [
    "## Question 1.7: \n",
    "TODO: (5 pts) What is the average birth weight of babies whose mothers have a history of premature birth? "
   ]
  },
  {
   "cell_type": "code",
   "execution_count": 17,
   "metadata": {},
   "outputs": [
    {
     "name": "stdout",
     "output_type": "stream",
     "text": [
      "2579.4 grams, or 5 pounds and 10.99 ounces is the average birth weight of babies whose mothers have a history of premature birth\n"
     ]
    }
   ],
   "source": [
    "premature_birth = data[data[:,5] > 0]\n",
    "birth_weights = premature_birth[:,9]\n",
    "avg_birth_weight = np.mean(birth_weights)\n",
    "result_gram = np.round(avg_birth_weight, 2)\n",
    "result_converted = convert_birthweight(avg_birth_weight)\n",
    "print(result_gram, 'grams, or', result_converted, 'is the average birth weight of babies whose mothers have a history of premature birth')"
   ]
  },
  {
   "cell_type": "markdown",
   "metadata": {},
   "source": [
    "## Question 1.8: \n",
    "TODO: (5 pts) What is the minimum, average and maximum birth weight of babies whose mother did not smoke during pregnancy and do not have a history of hypertension?"
   ]
  },
  {
   "cell_type": "code",
   "execution_count": 19,
   "metadata": {},
   "outputs": [
    {
     "name": "stdout",
     "output_type": "stream",
     "text": [
      "1021.0 grams, or 2 pounds and 4.01 ounces is the minimum birth weight of babies whose mother did not smoke during pregnancy and do not have a history of hypertension.\n",
      "3090.44 grams, or 6 pounds and 13.01 ounces is the average birth weight of babies whose mother did not smoke during pregnancy and do not have a history of hypertension.\n",
      "4990.0 grams, or 11 pounds and 0.02 ounces is the maximum birth weight of babies whose mother did not smoke during pregnancy and do not have a history of hypertension.\n"
     ]
    }
   ],
   "source": [
    "no_smoke_and_no_ht = data[(data[:,4] == 0) & (data[:,6] == 0)]\n",
    "birth_weights = no_smoke_and_no_ht[:,9]\n",
    "\n",
    "min_birth_weight_gram = np.min(birth_weights)\n",
    "avg_birth_weight_gram = np.mean(birth_weights)\n",
    "max_birth_weight_gram = np.max(birth_weights)\n",
    "\n",
    "avg_gram_rounded = np.round(avg_birth_weight_gram, 2)\n",
    "\n",
    "min_birth_weight_converted = convert_birthweight(min_birth_weight_gram)\n",
    "avg_birth_weight_converted = convert_birthweight(avg_birth_weight_gram)\n",
    "max_birth_weight_converted = convert_birthweight(max_birth_weight_gram)\n",
    "\n",
    "print(min_birth_weight_gram, 'grams, or', min_birth_weight_converted, 'is the minimum birth weight of babies whose mother ' \n",
    "      +'did not smoke during pregnancy and do not have a history of hypertension.')\n",
    "print(avg_gram_rounded, 'grams, or', avg_birth_weight_converted, 'is the average birth weight of babies whose mother ' \n",
    "      +'did not smoke during pregnancy and do not have a history of hypertension.')\n",
    "print(max_birth_weight_gram, 'grams, or', max_birth_weight_converted, 'is the maximum birth weight of babies whose mother ' \n",
    "      +'did not smoke during pregnancy and do not have a history of hypertension.')"
   ]
  },
  {
   "cell_type": "markdown",
   "metadata": {},
   "source": [
    "## Question 1.9: \n",
    "TODO: (5 pts) What is the minimum, average and maximum birth weight of babies whose mothers smoked during pregnancy?"
   ]
  },
  {
   "cell_type": "code",
   "execution_count": 21,
   "metadata": {},
   "outputs": [
    {
     "name": "stdout",
     "output_type": "stream",
     "text": [
      "709.0 grams, or 1 pounds and 9.01 ounces is the minimum birth weight of babies whose mothers smoked during pregnancy.\n",
      "2771.92 grams, or 6 pounds and 1.78 ounces is the average birth weight of babies whose mothers smoked during pregnancy.\n",
      "4238.0 grams, or 9 pounds and 5.49 ounces is the maximum birth weight of babies whose mothers smoked during pregnancy.\n"
     ]
    }
   ],
   "source": [
    "smoked = data[data[:,4] == 1]\n",
    "birth_weights = smoked[:,9]\n",
    "\n",
    "min_birth_gram = np.min(birth_weights)\n",
    "avg_birth_gram = np.mean(birth_weights)\n",
    "max_birth_gram = np.max(birth_weights)\n",
    "\n",
    "avg_gram_rounded = np.round(avg_birth_gram, 2)\n",
    "\n",
    "min_birth_gram_converted = convert_birthweight(min_birth_gram)\n",
    "avg_birth_gram_converted = convert_birthweight(avg_birth_gram)\n",
    "max_birth_gram_converted = convert_birthweight(max_birth_gram)\n",
    "\n",
    "print(min_birth_gram, 'grams, or', min_birth_gram_converted, 'is the minimum birth weight of babies whose mothers smoked during pregnancy.')\n",
    "print(avg_gram_rounded, 'grams, or', avg_birth_gram_converted, 'is the average birth weight of babies whose mothers smoked during pregnancy.')\n",
    "print(max_birth_gram, 'grams, or', max_birth_gram_converted, 'is the maximum birth weight of babies whose mothers smoked during pregnancy.')"
   ]
  },
  {
   "cell_type": "markdown",
   "metadata": {},
   "source": [
    "## Question 1.10: \n",
    "TODO: (5 pts) What is the minimum, average and maximum birth weight of babies whose mothers had a history of hypertension? "
   ]
  },
  {
   "cell_type": "code",
   "execution_count": 23,
   "metadata": {},
   "outputs": [
    {
     "name": "stdout",
     "output_type": "stream",
     "text": [
      "1135.0 grams, or 2 pounds and 8.04 ounces is the minimum birth weight of babies whose mothers had a history of hypertension.\n",
      "2536.83 grams, or 5 pounds and 9.48 ounces is the average birth weight of babies whose mothers had a history of hypertension.\n",
      "3790.0 grams, or 8 pounds and 5.69 ounces is the maximum birth weight of babies whose mothers had a history of hypertension.\n"
     ]
    }
   ],
   "source": [
    "ht = data[data[:,6] == 1]\n",
    "birth_weights = ht[:,9]\n",
    "\n",
    "min_birth_gram = np.min(birth_weights)\n",
    "avg_birth_gram = np.mean(birth_weights)\n",
    "max_birth_gram = np.max(birth_weights)\n",
    "\n",
    "avg_gram_rounded = np.round(avg_birth_gram, 2)\n",
    "\n",
    "min_birth_gram_converted = convert_birthweight(min_birth_gram)\n",
    "avg_birth_gram_converted = convert_birthweight(avg_birth_gram)\n",
    "max_birth_gram_converted = convert_birthweight(max_birth_gram)\n",
    "\n",
    "print(min_birth_gram, 'grams, or', min_birth_gram_converted, 'is the minimum birth weight of babies whose mothers had a history of hypertension.')\n",
    "print(avg_gram_rounded, 'grams, or', avg_birth_gram_converted, 'is the average birth weight of babies whose mothers had a history of hypertension.')\n",
    "print(max_birth_gram, 'grams, or', max_birth_gram_converted, 'is the maximum birth weight of babies whose mothers had a history of hypertension.')"
   ]
  },
  {
   "cell_type": "markdown",
   "metadata": {},
   "source": [
    "## Question 1.11: \n",
    "TODO: (5 pts) What is the minimum, average and maximum birth weight of babies whose mothers smoked during pregnancy <b>and</b> had a history of hypertension? "
   ]
  },
  {
   "cell_type": "code",
   "execution_count": 25,
   "metadata": {},
   "outputs": [
    {
     "name": "stdout",
     "output_type": "stream",
     "text": [
      "1135.0 grams, or 2 pounds and 8.04 ounces is the minimum birth weight of babies whose mother smoked during pregnancy and had a history of hypertension.\n",
      "2561.0 grams, or 5 pounds and 10.34 ounces is the average birth weight of babies whose mother smoked during pregnancy and had a history of hypertension.\n",
      "3756.0 grams, or 8 pounds and 4.49 ounces is the maximum birth weight of babies whose mother smoked during pregnancy and had a history of hypertension.\n"
     ]
    }
   ],
   "source": [
    "smoke_and_ht = data[(data[:,4] == 1) & (data[:,6] == 1)]\n",
    "birth_weights = smoke_and_ht[:,9]\n",
    "\n",
    "min_birth_weight_gram = np.min(birth_weights)\n",
    "avg_birth_weight_gram = np.mean(birth_weights)\n",
    "max_birth_weight_gram = np.max(birth_weights)\n",
    "\n",
    "avg_gram_rounded = np.round(avg_birth_weight_gram, 2)\n",
    "\n",
    "min_birth_weight_converted = convert_birthweight(min_birth_weight_gram)\n",
    "avg_birth_weight_converted = convert_birthweight(avg_birth_weight_gram)\n",
    "max_birth_weight_converted = convert_birthweight(max_birth_weight_gram)\n",
    "\n",
    "print(min_birth_weight_gram, 'grams, or', min_birth_weight_converted, 'is the minimum birth weight of babies whose mother ' \n",
    "      +'smoked during pregnancy and had a history of hypertension.')\n",
    "print(avg_gram_rounded, 'grams, or', avg_birth_weight_converted, 'is the average birth weight of babies whose mother ' \n",
    "      +'smoked during pregnancy and had a history of hypertension.')\n",
    "print(max_birth_weight_gram, 'grams, or', max_birth_weight_converted, 'is the maximum birth weight of babies whose mother ' \n",
    "      +'smoked during pregnancy and had a history of hypertension.')"
   ]
  },
  {
   "cell_type": "markdown",
   "metadata": {},
   "source": [
    "## Question 1.12: \n",
    "TODO: (5 pts) Compare and contrast the results from 7-11 above and summarize your findings.\n",
    "Do you see any patterns in the birth weight of babies whose mother did not have any history of hypertension and/or did not smoke during pregnancy versus those who did? Ensure that you reference specific birth weights to support your explanation."
   ]
  },
  {
   "cell_type": "markdown",
   "metadata": {},
   "source": [
    "I noticed that the birth weight of babies whose mothers did not smoke during pregnancy and did not have a history of\n",
    "hypertension had the highest average birth weight at 6 pounds and 13.01 ounces compared to the birth weight of babies whose mothers smoked during\n",
    "pregancy, had a history of hypertension, and smoked and had a history of hypertension at 6 pounds and 1.78 ounces, 5 pounds and 9.48 ounces, and\n",
    "5 pounds and 10.34 ounces respectively. \n",
    "\n",
    "Based on these average weights, I also noticed the average birth weight of babies whose mothers have a history of premature birth, had a history of hypertension, and smoked during pregnancy and had a history of hypertension all had similar weights at 5 pounds and 10.99 ounces, 5 pounds and 9.48 ounces, and 5 pounds and 10.34 ounces respectively.\n",
    "\n",
    "Another pattern that I noticed is that the minimum, average, and maximum birth weight of babies whose mothers had a history of hypertension--at 2 pounds and 8.04 ounces, 5 pounds and 9.48 ounces, and 8 pounds and 5.69 ounces respectively--compared to those of mothers who smoked during pregnancy and had a history of hypertension--at 2 pounds and 8.04 ounces, 5 pounds and 10.34 ounces, and 8 pounds and 4.49 ounces respectively--had very similar weights.\n",
    "\n",
    "Another pattern I noticed is that the minimum birth weight of babies was the lowest for mothers who smoked during pregnancy at 1 pound and 9.01 ounces compared to the minimum birth weight of babies whose mother did not smoke during pregnancy and do not have a history of hypertension, whose mothers had a history of hypertension, and whose mother smoked during pregnancy and had a history of hypertension at 2 pounds and 4.01 ounces, 2 pounds and 8.04 ounces, and 2 pounds and 8.04 ounces respectively.\n",
    "\n",
    "In terms of the maximum birth weight of babies, the highest was for those whose mother did not smoke during pregnancy and do not have a history of hypertension at 11 pounds and 0.02 ounces compared to the maximum birth weight of babies whose mothers smoked during pregnancy, whose mothers had a history of hypertension, and whose mother smoked during pregnancy and had a history of hypertension at 9 pounds and 5.49 ounces, 8 pounds and 5.69 ounces, and 8 pounds and 4.49 ounces respectively.\n",
    "\n",
    "Overall, I noticed that mothers who neither smoked nor had hypertension gave birth to babies with higher averages and maximum birth weights, suggesting that these factors may improve birth weights."
   ]
  },
  {
   "cell_type": "markdown",
   "metadata": {},
   "source": [
    "## Helpful resources \n",
    "Don't forget to cite websites which helped you solve a problem in a unique way.  You can do this in markdown near the code or with a simple one-line comment inside the code cell, or you can list them below. \n",
    "\n",
    "You do not need to cite the official python documentation.\n"
   ]
  },
  {
   "cell_type": "code",
   "execution_count": null,
   "metadata": {},
   "outputs": [],
   "source": []
  },
  {
   "cell_type": "code",
   "execution_count": null,
   "metadata": {},
   "outputs": [],
   "source": []
  }
 ],
 "metadata": {
  "kernelspec": {
   "display_name": "Python [conda env:base] *",
   "language": "python",
   "name": "conda-base-py"
  },
  "language_info": {
   "codemirror_mode": {
    "name": "ipython",
    "version": 3
   },
   "file_extension": ".py",
   "mimetype": "text/x-python",
   "name": "python",
   "nbconvert_exporter": "python",
   "pygments_lexer": "ipython3",
   "version": "3.12.7"
  }
 },
 "nbformat": 4,
 "nbformat_minor": 4
}
